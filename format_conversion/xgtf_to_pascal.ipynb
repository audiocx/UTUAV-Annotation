{
 "cells": [
  {
   "cell_type": "markdown",
   "metadata": {},
   "source": [
    "# Import libraries"
   ]
  },
  {
   "cell_type": "code",
   "execution_count": 1,
   "metadata": {},
   "outputs": [
    {
     "name": "stdout",
     "output_type": "stream",
     "text": [
      "Collecting xmltodict\n",
      "  Using cached xmltodict-0.14.2-py2.py3-none-any.whl.metadata (8.0 kB)\n",
      "Using cached xmltodict-0.14.2-py2.py3-none-any.whl (10.0 kB)\n",
      "Installing collected packages: xmltodict\n",
      "Successfully installed xmltodict-0.14.2\n",
      "\n",
      "\u001b[1m[\u001b[0m\u001b[34;49mnotice\u001b[0m\u001b[1;39;49m]\u001b[0m\u001b[39;49m A new release of pip is available: \u001b[0m\u001b[31;49m24.2\u001b[0m\u001b[39;49m -> \u001b[0m\u001b[32;49m24.3.1\u001b[0m\n",
      "\u001b[1m[\u001b[0m\u001b[34;49mnotice\u001b[0m\u001b[1;39;49m]\u001b[0m\u001b[39;49m To update, run: \u001b[0m\u001b[32;49mpip install --upgrade pip\u001b[0m\n"
     ]
    }
   ],
   "source": [
    "!pip install xmltodict"
   ]
  },
  {
   "cell_type": "code",
   "execution_count": 2,
   "metadata": {},
   "outputs": [],
   "source": [
    "import xmltodict\n",
    "import json"
   ]
  },
  {
   "cell_type": "markdown",
   "metadata": {},
   "source": [
    "# Read and parse xml to python dictionary"
   ]
  },
  {
   "cell_type": "code",
   "execution_count": 3,
   "metadata": {},
   "outputs": [],
   "source": [
    "# B data extraction\n",
    "with open(\"viper-annotations/video1_jorge_carros_buses.xgtf\", \"rb\") as f:\n",
    "  B1_dict = xmltodict.parse(f)\n",
    "\n",
    "with open(\"viper-annotations/video1_jorge_motos.xgtf\", \"rb\") as f:\n",
    "  B2_dict = xmltodict.parse(f)\n",
    "\n",
    "B_annotations = B1_dict[\"viper\"][\"data\"][\"sourcefile\"][\"object\"] + B2_dict[\"viper\"][\"data\"][\"sourcefile\"][\"object\"]\n",
    "\n",
    "# C data extraction\n",
    "with open(\"viper-annotations/lcarrosfinal.xgtf\", \"rb\") as f:\n",
    "  C1_dict = xmltodict.parse(f)\n",
    "\n",
    "with open(\"viper-annotations/lmotosybuses.xgtf\", \"rb\") as f:\n",
    "  C2_dict = xmltodict.parse(f)\n",
    "\n",
    "C_annotations = C1_dict[\"viper\"][\"data\"][\"sourcefile\"][\"object\"] + C2_dict[\"viper\"][\"data\"][\"sourcefile\"][\"object\"]"
   ]
  },
  {
   "cell_type": "code",
   "execution_count": 4,
   "metadata": {},
   "outputs": [],
   "source": [
    "# transforms the index from 1 to 6600, so it matches the image filenames\n",
    "def n_to_int(frame, intervals):\n",
    "  for i, j in intervals:\n",
    "    if j - i + 1 >= frame:\n",
    "      return i + frame - 1\n",
    "    else:\n",
    "      frame -= (j - i + 1)\n",
    "  \n",
    "B_intervals = [(21854, 28353)]\n",
    "C_intervals = [(6705, 8904), (10056, 12255), (20112, 22311)]"
   ]
  },
  {
   "cell_type": "markdown",
   "metadata": {},
   "source": [
    "## Dataset B"
   ]
  },
  {
   "cell_type": "code",
   "execution_count": 5,
   "metadata": {},
   "outputs": [],
   "source": [
    "# creates a list with the annotations of every image\n",
    "annotations_B = []\n",
    "\n",
    "for i in range(6500):\n",
    "  frame_string = str(n_to_int(i+1, intervals=B_intervals))\n",
    "  str_len = len(frame_string)\n",
    "  if str_len < 6:\n",
    "    frame_string = (6 - str_len)*\"0\" + frame_string\n",
    "\n",
    "  annotations_B.append({\n",
    "    \"annotation\": {\n",
    "      \"folder\": \"v1\",\n",
    "      \"filename\": f\"v1_{frame_string}.jpg\",\n",
    "      \"source\": {\n",
    "        \"database\": \"Unknown\",\n",
    "        \"annotation\": \"Unknown\",\n",
    "        \"image\": \"Unknown\"\n",
    "      },\n",
    "      \"size\": {\n",
    "        \"width\": 3840,\n",
    "        \"height\": 2160,\n",
    "        \"depth\": \"\"\n",
    "      },\n",
    "      \"segmented\": 0,\n",
    "      \"object\": []\n",
    "    }\n",
    "  })"
   ]
  },
  {
   "cell_type": "code",
   "execution_count": 6,
   "metadata": {},
   "outputs": [],
   "source": [
    "# this is to get the max id of each class, since cvat doesnt allow repeated track ids, even if the classes are different\n",
    "B_car_id = []\n",
    "B_bus_id = []\n",
    "B_motorbike_id = []\n",
    "\n",
    "for obj in B_annotations:\n",
    "  obj_class = obj[\"@name\"] if obj[\"@name\"] != \"moto\" else \"motorbike\"\n",
    "  obj_id = int(obj[\"@id\"])\n",
    "\n",
    "  if obj_class == \"car\":\n",
    "    B_car_id.append(obj_id)\n",
    "  if obj_class == \"bus\":\n",
    "    B_bus_id.append(obj_id)\n",
    "  if obj_class == \"motorbike\":\n",
    "    B_motorbike_id.append(obj_id)"
   ]
  },
  {
   "cell_type": "code",
   "execution_count": 7,
   "metadata": {},
   "outputs": [],
   "source": [
    "B_max_car_id = int(B_car_id[-1]) + 1\n",
    "B_max_bus_id = int(B_bus_id[-1]) + 1"
   ]
  },
  {
   "cell_type": "code",
   "execution_count": 8,
   "metadata": {},
   "outputs": [],
   "source": [
    "# cars, buses and motorbike\n",
    "\n",
    "for obj in B_annotations:\n",
    "  obj_class = obj[\"@name\"] if obj[\"@name\"] != \"moto\" else \"motorbike\"\n",
    "\n",
    "  obj_id = int(obj[\"@id\"]) + 1\n",
    "  if obj_class == \"bus\":\n",
    "    obj_id += B_max_car_id\n",
    "  \n",
    "  if obj_class == \"motorbike\":\n",
    "    obj_id += B_max_car_id + B_max_bus_id\n",
    "\n",
    "  for att in obj[\"attribute\"]:\n",
    "    if att[\"@name\"] == \"bbox\":\n",
    "      for ann in att[\"data:bbox\"]:\n",
    "        i_frame, j_frame = ann[\"@framespan\"].split(\":\")\n",
    "        i_frame = int(i_frame)\n",
    "        j_frame = int(j_frame)\n",
    "\n",
    "        height = int(ann[\"@height\"])\n",
    "        width = int(ann[\"@width\"])\n",
    "        x = int(ann[\"@x\"])\n",
    "        y = int(ann[\"@y\"])\n",
    "\n",
    "        xmin = x * 3840 / 1920\n",
    "        ymin = y * 2160 / 1080\n",
    "        xmax = (x + width) * 3840 / 1920\n",
    "        ymax = (y + height) * 2160 / 1080\n",
    "        \n",
    "        for curr_frame in range(i_frame, j_frame+1):\n",
    "          keyframe = \"True\" if curr_frame == i_frame else \"False\"\n",
    "\n",
    "          annotations_B[curr_frame - 1][\"annotation\"][\"object\"].append({\n",
    "            \"name\": obj_class,\n",
    "            \"truncated\": 0,\n",
    "            \"occluded\": 0,\n",
    "            \"difficult\": 0,\n",
    "            \"bndbox\": {\n",
    "              \"xmin\": xmin,\n",
    "              \"ymin\": ymin,\n",
    "              \"xmax\": xmax,\n",
    "              \"ymax\": ymax\n",
    "            },\n",
    "            \"attributes\": {\n",
    "              \"attribute\": [\n",
    "                {\n",
    "                  \"name\": \"rotation\",\n",
    "                  \"value\": 0.0,\n",
    "                },\n",
    "                {\n",
    "                  \"name\": \"track_id\",\n",
    "                  \"value\": obj_id,\n",
    "                },\n",
    "                {\n",
    "                  \"name\": \"keyframe\",\n",
    "                  \"value\": keyframe\n",
    "                }\n",
    "              ]\n",
    "            }\n",
    "          })"
   ]
  },
  {
   "cell_type": "markdown",
   "metadata": {},
   "source": [
    "### Write each Pascal VOC 1.1 .xml file"
   ]
  },
  {
   "cell_type": "code",
   "execution_count": 9,
   "metadata": {},
   "outputs": [],
   "source": [
    "imagesets = \"\"\n",
    "for i in range(len(annotations_B)):\n",
    "  filename, _ = annotations_B[i][\"annotation\"][\"filename\"].split(\".\")\n",
    "  imagesets += filename + \"\\n\"\n",
    "  filename = filename + \".xml\"\n",
    "  with open(f\"pascal-annotations/B_dataset/Annotations/{filename}\", \"w\") as f:\n",
    "    xmlstring = xmltodict.unparse(annotations_B[i], pretty=True)\n",
    "    f.write(xmlstring)"
   ]
  },
  {
   "cell_type": "markdown",
   "metadata": {},
   "source": [
    "### Write each filename in a .txt file"
   ]
  },
  {
   "cell_type": "code",
   "execution_count": 10,
   "metadata": {},
   "outputs": [],
   "source": [
    "with open(\"pascal-annotations/B_dataset/ImageSets/Main/default.txt\", \"w\") as f:\n",
    "  f.write(imagesets)"
   ]
  },
  {
   "cell_type": "markdown",
   "metadata": {},
   "source": [
    "## Dataset C"
   ]
  },
  {
   "cell_type": "code",
   "execution_count": 11,
   "metadata": {},
   "outputs": [],
   "source": [
    "# creates a list with the annotations of every image\n",
    "annotations_C = []\n",
    "\n",
    "for i in range(6600):\n",
    "  frame_string = str(n_to_int(i+1, intervals=C_intervals))\n",
    "  str_len = len(frame_string)\n",
    "  if str_len < 6:\n",
    "    frame_string = (6 - str_len)*\"0\" + frame_string\n",
    "\n",
    "  annotations_C.append({\n",
    "    \"annotation\": {\n",
    "      \"folder\": \"v2\",\n",
    "      \"filename\": f\"v2_{frame_string}.jpg\",\n",
    "      \"source\": {\n",
    "        \"database\": \"Unknown\",\n",
    "        \"annotation\": \"Unknown\",\n",
    "        \"image\": \"Unknown\"\n",
    "      },\n",
    "      \"size\": {\n",
    "        \"width\": 3840,\n",
    "        \"height\": 2160,\n",
    "        \"depth\": \"\"\n",
    "      },\n",
    "      \"segmented\": 0,\n",
    "      \"object\": []\n",
    "    }\n",
    "  })"
   ]
  },
  {
   "cell_type": "code",
   "execution_count": 12,
   "metadata": {},
   "outputs": [],
   "source": [
    "# this is to get the max id of each class, since cvat doesnt allow repeated track ids, even if the classes are different\n",
    "C_car_id = []\n",
    "C_bus_id = []\n",
    "C_motorbike_id = []\n",
    "\n",
    "for obj in C_annotations:\n",
    "  obj_class = obj[\"@name\"] if obj[\"@name\"] != \"moto\" else \"motorbike\"\n",
    "  obj_id = int(obj[\"@id\"])\n",
    "\n",
    "  if obj_class == \"car\":\n",
    "    C_car_id.append(obj_id)\n",
    "  if obj_class == \"bus\":\n",
    "    C_bus_id.append(obj_id)\n",
    "  if obj_class == \"motorbike\":\n",
    "    C_motorbike_id.append(obj_id)"
   ]
  },
  {
   "cell_type": "code",
   "execution_count": 13,
   "metadata": {},
   "outputs": [],
   "source": [
    "C_max_car_id = int(C_car_id[-1]) + 1\n",
    "C_max_bus_id = int(C_bus_id[-1]) + 1"
   ]
  },
  {
   "cell_type": "code",
   "execution_count": 14,
   "metadata": {},
   "outputs": [
    {
     "name": "stdout",
     "output_type": "stream",
     "text": [
      "car 19\n",
      "motorbike 397\n"
     ]
    }
   ],
   "source": [
    "# cars, buses and motorbike\n",
    "maxframe = 0\n",
    "for obj in C_annotations:\n",
    "  obj_class = obj[\"@name\"] if obj[\"@name\"] != \"moto\" else \"motorbike\"\n",
    "\n",
    "  obj_id = int(obj[\"@id\"]) + 1\n",
    "  if obj_class == \"bus\":\n",
    "    obj_id += C_max_car_id\n",
    "  \n",
    "  if obj_class == \"motorbike\":\n",
    "    obj_id += C_max_car_id + C_max_bus_id\n",
    "\n",
    "  for att in obj[\"attribute\"]:\n",
    "    if att[\"@name\"] == \"bbox\":\n",
    "      for ann in att[\"data:bbox\"]:\n",
    "        if type(ann) != dict:\n",
    "          continue\n",
    "        i_frame, j_frame = ann[\"@framespan\"].split(\":\")\n",
    "        i_frame = int(i_frame)\n",
    "        j_frame = int(j_frame)\n",
    "\n",
    "        if j_frame > maxframe and j_frame <= 6600:\n",
    "          maxframe = j_frame\n",
    "        if j_frame > 3351:\n",
    "          print(f\"{obj_class} {obj_id-1}\")\n",
    "\n",
    "        height = int(ann[\"@height\"])\n",
    "        width = int(ann[\"@width\"])\n",
    "        x = int(ann[\"@x\"])\n",
    "        y = int(ann[\"@y\"])\n",
    "\n",
    "        xmin = x * 3840 / 1920\n",
    "        ymin = y * 2160 / 1080\n",
    "        xmax = (x + width) * 3840 / 1920\n",
    "        ymax = (y + height) * 2160 / 1080\n",
    "        \n",
    "        for curr_frame in range(i_frame, j_frame+1):\n",
    "          keyframe = \"True\" if curr_frame == i_frame else \"False\"\n",
    "\n",
    "          if curr_frame >= len(annotations_C):\n",
    "            continue\n",
    "\n",
    "          annotations_C[curr_frame - 1][\"annotation\"][\"object\"].append({\n",
    "            \"name\": obj_class,\n",
    "            \"truncated\": 0,\n",
    "            \"occluded\": 0,\n",
    "            \"difficult\": 0,\n",
    "            \"bndbox\": {\n",
    "              \"xmin\": xmin,\n",
    "              \"ymin\": ymin,\n",
    "              \"xmax\": xmax,\n",
    "              \"ymax\": ymax\n",
    "            },\n",
    "            \"attributes\": {\n",
    "              \"attribute\": [\n",
    "                {\n",
    "                  \"name\": \"rotation\",\n",
    "                  \"value\": 0.0,\n",
    "                },\n",
    "                {\n",
    "                  \"name\": \"track_id\",\n",
    "                  \"value\": obj_id,\n",
    "                },\n",
    "                {\n",
    "                  \"name\": \"keyframe\",\n",
    "                  \"value\": keyframe\n",
    "                }\n",
    "              ]\n",
    "            }\n",
    "          })"
   ]
  },
  {
   "cell_type": "code",
   "execution_count": 15,
   "metadata": {},
   "outputs": [
    {
     "data": {
      "text/plain": [
       "3351"
      ]
     },
     "execution_count": 15,
     "metadata": {},
     "output_type": "execute_result"
    }
   ],
   "source": [
    "maxframe"
   ]
  },
  {
   "cell_type": "code",
   "execution_count": 16,
   "metadata": {},
   "outputs": [],
   "source": [
    "imagesets = \"\"\n",
    "for i in range(len(annotations_C)):\n",
    "  filename, _ = annotations_C[i][\"annotation\"][\"filename\"].split(\".\")\n",
    "  imagesets += filename + \"\\n\"\n",
    "  filename = filename + \".xml\"\n",
    "  with open(f\"pascal-annotations/C_dataset/Annotations/{filename}\", \"w\") as f:\n",
    "    xmlstring = xmltodict.unparse(annotations_C[i], pretty=True)\n",
    "    f.write(xmlstring)"
   ]
  },
  {
   "cell_type": "code",
   "execution_count": 17,
   "metadata": {},
   "outputs": [],
   "source": [
    "with open(\"pascal-annotations/C_dataset/ImageSets/Main/default.txt\", \"w\") as f:\n",
    "  f.write(imagesets)"
   ]
  }
 ],
 "metadata": {
  "kernelspec": {
   "display_name": "venv",
   "language": "python",
   "name": "python3"
  },
  "language_info": {
   "codemirror_mode": {
    "name": "ipython",
    "version": 3
   },
   "file_extension": ".py",
   "mimetype": "text/x-python",
   "name": "python",
   "nbconvert_exporter": "python",
   "pygments_lexer": "ipython3",
   "version": "3.12.7"
  }
 },
 "nbformat": 4,
 "nbformat_minor": 2
}
